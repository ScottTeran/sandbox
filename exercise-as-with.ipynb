{
 "cells": [
  {
   "cell_type": "markdown",
   "id": "ed6194e9",
   "metadata": {
    "papermill": {
     "duration": 0.024409,
     "end_time": "2022-02-24T22:31:58.588104",
     "exception": false,
     "start_time": "2022-02-24T22:31:58.563695",
     "status": "completed"
    },
    "tags": []
   },
   "source": [
    "**This notebook is an exercise in the [SQL](https://www.kaggle.com/learn/intro-to-sql) course.  You can reference the tutorial at [this link](https://www.kaggle.com/dansbecker/as-with).**\n",
    "\n",
    "---\n"
   ]
  },
  {
   "cell_type": "markdown",
   "id": "4cdff8ec",
   "metadata": {
    "papermill": {
     "duration": 0.022765,
     "end_time": "2022-02-24T22:31:58.634119",
     "exception": false,
     "start_time": "2022-02-24T22:31:58.611354",
     "status": "completed"
    },
    "tags": []
   },
   "source": [
    "# Introduction\n",
    "\n",
    "You are getting to the point where you can own an analysis from beginning to end. So you'll do more data exploration in this exercise than you've done before.  Before you get started, run the following set-up code as usual. "
   ]
  },
  {
   "cell_type": "code",
   "execution_count": 1,
   "id": "ef6788cc",
   "metadata": {
    "execution": {
     "iopub.execute_input": "2022-02-24T22:31:58.686358Z",
     "iopub.status.busy": "2022-02-24T22:31:58.684527Z",
     "iopub.status.idle": "2022-02-24T22:32:02.242158Z",
     "shell.execute_reply": "2022-02-24T22:32:02.242957Z",
     "shell.execute_reply.started": "2022-02-24T21:07:46.007304Z"
    },
    "papermill": {
     "duration": 3.586255,
     "end_time": "2022-02-24T22:32:02.243372",
     "exception": false,
     "start_time": "2022-02-24T22:31:58.657117",
     "status": "completed"
    },
    "tags": []
   },
   "outputs": [
    {
     "name": "stdout",
     "output_type": "stream",
     "text": [
      "Using Kaggle's public dataset BigQuery integration.\n"
     ]
    },
    {
     "name": "stderr",
     "output_type": "stream",
     "text": [
      "/opt/conda/lib/python3.7/site-packages/google/cloud/bigquery/client.py:440: UserWarning: Cannot create BigQuery Storage client, the dependency google-cloud-bigquery-storage is not installed.\n",
      "  \"Cannot create BigQuery Storage client, the dependency \"\n"
     ]
    },
    {
     "name": "stdout",
     "output_type": "stream",
     "text": [
      "Setup Complete\n"
     ]
    }
   ],
   "source": [
    "# Set up feedback system\n",
    "from learntools.core import binder\n",
    "binder.bind(globals())\n",
    "from learntools.sql.ex5 import *\n",
    "print(\"Setup Complete\")"
   ]
  },
  {
   "cell_type": "markdown",
   "id": "38ff314f",
   "metadata": {
    "papermill": {
     "duration": 0.023846,
     "end_time": "2022-02-24T22:32:02.292509",
     "exception": false,
     "start_time": "2022-02-24T22:32:02.268663",
     "status": "completed"
    },
    "tags": []
   },
   "source": [
    "You'll work with a dataset about taxi trips in the city of Chicago. Run the cell below to fetch the `chicago_taxi_trips` dataset."
   ]
  },
  {
   "cell_type": "code",
   "execution_count": 2,
   "id": "fa8f9538",
   "metadata": {
    "execution": {
     "iopub.execute_input": "2022-02-24T22:32:02.349267Z",
     "iopub.status.busy": "2022-02-24T22:32:02.345737Z",
     "iopub.status.idle": "2022-02-24T22:32:02.676706Z",
     "shell.execute_reply": "2022-02-24T22:32:02.676044Z",
     "shell.execute_reply.started": "2022-02-24T21:08:21.850945Z"
    },
    "papermill": {
     "duration": 0.360073,
     "end_time": "2022-02-24T22:32:02.676851",
     "exception": false,
     "start_time": "2022-02-24T22:32:02.316778",
     "status": "completed"
    },
    "tags": []
   },
   "outputs": [
    {
     "name": "stdout",
     "output_type": "stream",
     "text": [
      "Using Kaggle's public dataset BigQuery integration.\n"
     ]
    }
   ],
   "source": [
    "from google.cloud import bigquery\n",
    "\n",
    "# Create a \"Client\" object\n",
    "client = bigquery.Client()\n",
    "\n",
    "# Construct a reference to the \"chicago_taxi_trips\" dataset\n",
    "dataset_ref = client.dataset(\"chicago_taxi_trips\", project=\"bigquery-public-data\")\n",
    "\n",
    "# API request - fetch the dataset\n",
    "dataset = client.get_dataset(dataset_ref)"
   ]
  },
  {
   "cell_type": "markdown",
   "id": "01fa98a3",
   "metadata": {
    "papermill": {
     "duration": 0.024057,
     "end_time": "2022-02-24T22:32:02.725433",
     "exception": false,
     "start_time": "2022-02-24T22:32:02.701376",
     "status": "completed"
    },
    "tags": []
   },
   "source": [
    "# Exercises\n",
    "\n",
    "You are curious how much slower traffic moves when traffic volume is high. This involves a few steps.\n",
    "\n",
    "### 1) Find the data\n",
    "Before you can access the data, you need to find the table name with the data.\n",
    "\n",
    "*Hint*: Tab completion is helpful whenever you can't remember a command. Type `client.` and then hit the tab key. Don't forget the period before hitting tab."
   ]
  },
  {
   "cell_type": "code",
   "execution_count": 3,
   "id": "4724863c",
   "metadata": {
    "execution": {
     "iopub.execute_input": "2022-02-24T22:32:02.777128Z",
     "iopub.status.busy": "2022-02-24T22:32:02.776478Z",
     "iopub.status.idle": "2022-02-24T22:32:02.984836Z",
     "shell.execute_reply": "2022-02-24T22:32:02.984260Z",
     "shell.execute_reply.started": "2022-02-24T21:12:40.47294Z"
    },
    "papermill": {
     "duration": 0.235259,
     "end_time": "2022-02-24T22:32:02.985001",
     "exception": false,
     "start_time": "2022-02-24T22:32:02.749742",
     "status": "completed"
    },
    "tags": []
   },
   "outputs": [
    {
     "name": "stdout",
     "output_type": "stream",
     "text": [
      "<class 'list'>\n",
      "taxi_trips\n"
     ]
    }
   ],
   "source": [
    "# Your code here to find the table name\n",
    "\n",
    "# I need to find the list of tables before proceeding\n",
    "tables = list(client.list_tables(dataset))\n",
    "\n",
    "print(type(tables))\n",
    "\n",
    "for table in tables:\n",
    "    print(table.table_id)\n",
    "    "
   ]
  },
  {
   "cell_type": "code",
   "execution_count": 4,
   "id": "9c67195e",
   "metadata": {
    "execution": {
     "iopub.execute_input": "2022-02-24T22:32:03.047467Z",
     "iopub.status.busy": "2022-02-24T22:32:03.046051Z",
     "iopub.status.idle": "2022-02-24T22:32:03.055305Z",
     "shell.execute_reply": "2022-02-24T22:32:03.055793Z",
     "shell.execute_reply.started": "2022-02-24T21:13:30.880541Z"
    },
    "papermill": {
     "duration": 0.043932,
     "end_time": "2022-02-24T22:32:03.055962",
     "exception": false,
     "start_time": "2022-02-24T22:32:03.012030",
     "status": "completed"
    },
    "tags": []
   },
   "outputs": [
    {
     "data": {
      "application/javascript": [
       "parent.postMessage({\"jupyterEvent\": \"custom.exercise_interaction\", \"data\": {\"outcomeType\": 1, \"valueTowardsCompletion\": 0.16666666666666666, \"interactionType\": 1, \"questionType\": 1, \"questionId\": \"1_GetTableName\", \"learnToolsVersion\": \"0.3.4\", \"failureMessage\": \"\", \"exceptionClass\": \"\", \"trace\": \"\"}}, \"*\")"
      ],
      "text/plain": [
       "<IPython.core.display.Javascript object>"
      ]
     },
     "metadata": {},
     "output_type": "display_data"
    },
    {
     "data": {
      "text/markdown": [
       "<span style=\"color:#33cc33\">Correct</span>"
      ],
      "text/plain": [
       "Correct"
      ]
     },
     "metadata": {},
     "output_type": "display_data"
    }
   ],
   "source": [
    "# Write the table name as a string below\n",
    "table_name = 'taxi_trips'\n",
    "\n",
    "# Check your answer\n",
    "q_1.check()"
   ]
  },
  {
   "cell_type": "markdown",
   "id": "2286c7e5",
   "metadata": {
    "papermill": {
     "duration": 0.025578,
     "end_time": "2022-02-24T22:32:03.108724",
     "exception": false,
     "start_time": "2022-02-24T22:32:03.083146",
     "status": "completed"
    },
    "tags": []
   },
   "source": [
    "For the solution, uncomment the line below."
   ]
  },
  {
   "cell_type": "code",
   "execution_count": 5,
   "id": "76cfdbef",
   "metadata": {
    "execution": {
     "iopub.execute_input": "2022-02-24T22:32:03.166567Z",
     "iopub.status.busy": "2022-02-24T22:32:03.164768Z",
     "iopub.status.idle": "2022-02-24T22:32:03.169229Z",
     "shell.execute_reply": "2022-02-24T22:32:03.168728Z",
     "shell.execute_reply.started": "2022-02-24T21:13:36.245694Z"
    },
    "papermill": {
     "duration": 0.033063,
     "end_time": "2022-02-24T22:32:03.169380",
     "exception": false,
     "start_time": "2022-02-24T22:32:03.136317",
     "status": "completed"
    },
    "tags": []
   },
   "outputs": [],
   "source": [
    "#q_1.solution()"
   ]
  },
  {
   "cell_type": "markdown",
   "id": "fb25be99",
   "metadata": {
    "papermill": {
     "duration": 0.025575,
     "end_time": "2022-02-24T22:32:03.221294",
     "exception": false,
     "start_time": "2022-02-24T22:32:03.195719",
     "status": "completed"
    },
    "tags": []
   },
   "source": [
    "### 2) Peek at the data\n",
    "\n",
    "Use the next code cell to peek at the top few rows of the data. Inspect the data and see if any issues with data quality are immediately obvious. "
   ]
  },
  {
   "cell_type": "code",
   "execution_count": 6,
   "id": "b48425ba",
   "metadata": {
    "execution": {
     "iopub.execute_input": "2022-02-24T22:32:03.276925Z",
     "iopub.status.busy": "2022-02-24T22:32:03.276290Z",
     "iopub.status.idle": "2022-02-24T22:32:03.915974Z",
     "shell.execute_reply": "2022-02-24T22:32:03.916487Z",
     "shell.execute_reply.started": "2022-02-24T21:21:06.141082Z"
    },
    "papermill": {
     "duration": 0.668918,
     "end_time": "2022-02-24T22:32:03.916660",
     "exception": false,
     "start_time": "2022-02-24T22:32:03.247742",
     "status": "completed"
    },
    "tags": []
   },
   "outputs": [
    {
     "name": "stderr",
     "output_type": "stream",
     "text": [
      "/opt/conda/lib/python3.7/site-packages/ipykernel_launcher.py:8: UserWarning: Cannot use bqstorage_client if max_results is set, reverting to fetching data with the tabledata.list endpoint.\n",
      "  \n"
     ]
    },
    {
     "data": {
      "text/html": [
       "<div>\n",
       "<style scoped>\n",
       "    .dataframe tbody tr th:only-of-type {\n",
       "        vertical-align: middle;\n",
       "    }\n",
       "\n",
       "    .dataframe tbody tr th {\n",
       "        vertical-align: top;\n",
       "    }\n",
       "\n",
       "    .dataframe thead th {\n",
       "        text-align: right;\n",
       "    }\n",
       "</style>\n",
       "<table border=\"1\" class=\"dataframe\">\n",
       "  <thead>\n",
       "    <tr style=\"text-align: right;\">\n",
       "      <th></th>\n",
       "      <th>unique_key</th>\n",
       "      <th>taxi_id</th>\n",
       "      <th>trip_start_timestamp</th>\n",
       "      <th>trip_end_timestamp</th>\n",
       "      <th>trip_seconds</th>\n",
       "      <th>trip_miles</th>\n",
       "      <th>pickup_census_tract</th>\n",
       "      <th>dropoff_census_tract</th>\n",
       "      <th>pickup_community_area</th>\n",
       "      <th>dropoff_community_area</th>\n",
       "      <th>...</th>\n",
       "      <th>extras</th>\n",
       "      <th>trip_total</th>\n",
       "      <th>payment_type</th>\n",
       "      <th>company</th>\n",
       "      <th>pickup_latitude</th>\n",
       "      <th>pickup_longitude</th>\n",
       "      <th>pickup_location</th>\n",
       "      <th>dropoff_latitude</th>\n",
       "      <th>dropoff_longitude</th>\n",
       "      <th>dropoff_location</th>\n",
       "    </tr>\n",
       "  </thead>\n",
       "  <tbody>\n",
       "    <tr>\n",
       "      <th>0</th>\n",
       "      <td>658aac74e3f3830aaaa54e4fe048a91d7233d12f</td>\n",
       "      <td>2568c6e490992798e9b945d3655d7f4fd56f218f3c5424...</td>\n",
       "      <td>2014-03-29 15:45:00+00:00</td>\n",
       "      <td>2014-03-29 15:45:00+00:00</td>\n",
       "      <td>0</td>\n",
       "      <td>0.0</td>\n",
       "      <td>NaN</td>\n",
       "      <td>NaN</td>\n",
       "      <td>NaN</td>\n",
       "      <td>NaN</td>\n",
       "      <td>...</td>\n",
       "      <td>0.0</td>\n",
       "      <td>13.98</td>\n",
       "      <td>Credit Card</td>\n",
       "      <td>Chicago Elite Cab Corp. (Chicago Carriag</td>\n",
       "      <td>NaN</td>\n",
       "      <td>NaN</td>\n",
       "      <td>None</td>\n",
       "      <td>NaN</td>\n",
       "      <td>NaN</td>\n",
       "      <td>None</td>\n",
       "    </tr>\n",
       "    <tr>\n",
       "      <th>1</th>\n",
       "      <td>e648b63342d4a601ce8bcb15c84f3fae2e41bd84</td>\n",
       "      <td>757187b0539a5d45de2b1c4df145331b4f6150e3f882db...</td>\n",
       "      <td>2014-04-03 06:15:00+00:00</td>\n",
       "      <td>2014-04-03 06:15:00+00:00</td>\n",
       "      <td>0</td>\n",
       "      <td>0.0</td>\n",
       "      <td>NaN</td>\n",
       "      <td>NaN</td>\n",
       "      <td>NaN</td>\n",
       "      <td>NaN</td>\n",
       "      <td>...</td>\n",
       "      <td>0.0</td>\n",
       "      <td>17.85</td>\n",
       "      <td>Credit Card</td>\n",
       "      <td>Chicago Elite Cab Corp. (Chicago Carriag</td>\n",
       "      <td>NaN</td>\n",
       "      <td>NaN</td>\n",
       "      <td>None</td>\n",
       "      <td>NaN</td>\n",
       "      <td>NaN</td>\n",
       "      <td>None</td>\n",
       "    </tr>\n",
       "    <tr>\n",
       "      <th>2</th>\n",
       "      <td>db9ce25a28ac7eeedcd6aa5081f59a0e9b4a96da</td>\n",
       "      <td>8af866321dea9cae50902f4d2a92fe44b512f024e65e2b...</td>\n",
       "      <td>2014-12-09 19:15:00+00:00</td>\n",
       "      <td>2014-12-09 19:15:00+00:00</td>\n",
       "      <td>0</td>\n",
       "      <td>0.0</td>\n",
       "      <td>NaN</td>\n",
       "      <td>NaN</td>\n",
       "      <td>NaN</td>\n",
       "      <td>NaN</td>\n",
       "      <td>...</td>\n",
       "      <td>0.0</td>\n",
       "      <td>14.70</td>\n",
       "      <td>Credit Card</td>\n",
       "      <td>Chicago Elite Cab Corp. (Chicago Carriag</td>\n",
       "      <td>NaN</td>\n",
       "      <td>NaN</td>\n",
       "      <td>None</td>\n",
       "      <td>NaN</td>\n",
       "      <td>NaN</td>\n",
       "      <td>None</td>\n",
       "    </tr>\n",
       "    <tr>\n",
       "      <th>3</th>\n",
       "      <td>bc795438ea79132877c03c147bb3a7de26e3ceba</td>\n",
       "      <td>f4ae9b2c8c8f5d2a1cc1e7864cc14e76a252a4236b9a4f...</td>\n",
       "      <td>2014-04-03 08:45:00+00:00</td>\n",
       "      <td>2014-04-03 08:45:00+00:00</td>\n",
       "      <td>0</td>\n",
       "      <td>0.0</td>\n",
       "      <td>NaN</td>\n",
       "      <td>NaN</td>\n",
       "      <td>NaN</td>\n",
       "      <td>NaN</td>\n",
       "      <td>...</td>\n",
       "      <td>0.0</td>\n",
       "      <td>51.58</td>\n",
       "      <td>Credit Card</td>\n",
       "      <td>T.A.S. - Payment Only</td>\n",
       "      <td>NaN</td>\n",
       "      <td>NaN</td>\n",
       "      <td>None</td>\n",
       "      <td>NaN</td>\n",
       "      <td>NaN</td>\n",
       "      <td>None</td>\n",
       "    </tr>\n",
       "    <tr>\n",
       "      <th>4</th>\n",
       "      <td>76f299c3e72a68920f0a4e327acbced7aaf52a9b</td>\n",
       "      <td>26098afc7c6fc2d9e067c502b4a101289d018978ba9157...</td>\n",
       "      <td>2014-03-30 12:45:00+00:00</td>\n",
       "      <td>2014-03-30 12:45:00+00:00</td>\n",
       "      <td>0</td>\n",
       "      <td>0.0</td>\n",
       "      <td>NaN</td>\n",
       "      <td>NaN</td>\n",
       "      <td>NaN</td>\n",
       "      <td>NaN</td>\n",
       "      <td>...</td>\n",
       "      <td>0.0</td>\n",
       "      <td>19.85</td>\n",
       "      <td>Credit Card</td>\n",
       "      <td>T.A.S. - Payment Only</td>\n",
       "      <td>NaN</td>\n",
       "      <td>NaN</td>\n",
       "      <td>None</td>\n",
       "      <td>NaN</td>\n",
       "      <td>NaN</td>\n",
       "      <td>None</td>\n",
       "    </tr>\n",
       "  </tbody>\n",
       "</table>\n",
       "<p>5 rows × 23 columns</p>\n",
       "</div>"
      ],
      "text/plain": [
       "                                 unique_key  \\\n",
       "0  658aac74e3f3830aaaa54e4fe048a91d7233d12f   \n",
       "1  e648b63342d4a601ce8bcb15c84f3fae2e41bd84   \n",
       "2  db9ce25a28ac7eeedcd6aa5081f59a0e9b4a96da   \n",
       "3  bc795438ea79132877c03c147bb3a7de26e3ceba   \n",
       "4  76f299c3e72a68920f0a4e327acbced7aaf52a9b   \n",
       "\n",
       "                                             taxi_id  \\\n",
       "0  2568c6e490992798e9b945d3655d7f4fd56f218f3c5424...   \n",
       "1  757187b0539a5d45de2b1c4df145331b4f6150e3f882db...   \n",
       "2  8af866321dea9cae50902f4d2a92fe44b512f024e65e2b...   \n",
       "3  f4ae9b2c8c8f5d2a1cc1e7864cc14e76a252a4236b9a4f...   \n",
       "4  26098afc7c6fc2d9e067c502b4a101289d018978ba9157...   \n",
       "\n",
       "       trip_start_timestamp        trip_end_timestamp  trip_seconds  \\\n",
       "0 2014-03-29 15:45:00+00:00 2014-03-29 15:45:00+00:00             0   \n",
       "1 2014-04-03 06:15:00+00:00 2014-04-03 06:15:00+00:00             0   \n",
       "2 2014-12-09 19:15:00+00:00 2014-12-09 19:15:00+00:00             0   \n",
       "3 2014-04-03 08:45:00+00:00 2014-04-03 08:45:00+00:00             0   \n",
       "4 2014-03-30 12:45:00+00:00 2014-03-30 12:45:00+00:00             0   \n",
       "\n",
       "   trip_miles  pickup_census_tract  dropoff_census_tract  \\\n",
       "0         0.0                  NaN                   NaN   \n",
       "1         0.0                  NaN                   NaN   \n",
       "2         0.0                  NaN                   NaN   \n",
       "3         0.0                  NaN                   NaN   \n",
       "4         0.0                  NaN                   NaN   \n",
       "\n",
       "   pickup_community_area  dropoff_community_area  ...  extras  trip_total  \\\n",
       "0                    NaN                     NaN  ...     0.0       13.98   \n",
       "1                    NaN                     NaN  ...     0.0       17.85   \n",
       "2                    NaN                     NaN  ...     0.0       14.70   \n",
       "3                    NaN                     NaN  ...     0.0       51.58   \n",
       "4                    NaN                     NaN  ...     0.0       19.85   \n",
       "\n",
       "   payment_type                                   company  pickup_latitude  \\\n",
       "0   Credit Card  Chicago Elite Cab Corp. (Chicago Carriag              NaN   \n",
       "1   Credit Card  Chicago Elite Cab Corp. (Chicago Carriag              NaN   \n",
       "2   Credit Card  Chicago Elite Cab Corp. (Chicago Carriag              NaN   \n",
       "3   Credit Card                     T.A.S. - Payment Only              NaN   \n",
       "4   Credit Card                     T.A.S. - Payment Only              NaN   \n",
       "\n",
       "  pickup_longitude pickup_location  dropoff_latitude  dropoff_longitude  \\\n",
       "0              NaN            None               NaN                NaN   \n",
       "1              NaN            None               NaN                NaN   \n",
       "2              NaN            None               NaN                NaN   \n",
       "3              NaN            None               NaN                NaN   \n",
       "4              NaN            None               NaN                NaN   \n",
       "\n",
       "  dropoff_location  \n",
       "0             None  \n",
       "1             None  \n",
       "2             None  \n",
       "3             None  \n",
       "4             None  \n",
       "\n",
       "[5 rows x 23 columns]"
      ]
     },
     "execution_count": 6,
     "metadata": {},
     "output_type": "execute_result"
    }
   ],
   "source": [
    "# construct a reference for the \"taxi_names\" table\n",
    "table_ref = dataset_ref.table('taxi_trips')\n",
    "\n",
    "# API request for the table\n",
    "table = client.get_table(table_ref)\n",
    "\n",
    "# preview the first five rows\n",
    "client.list_rows(table, max_results=5).to_dataframe()"
   ]
  },
  {
   "cell_type": "markdown",
   "id": "eb8a6feb",
   "metadata": {
    "papermill": {
     "duration": 0.027701,
     "end_time": "2022-02-24T22:32:03.971862",
     "exception": false,
     "start_time": "2022-02-24T22:32:03.944161",
     "status": "completed"
    },
    "tags": []
   },
   "source": [
    "After deciding whether you see any important issues, run the code cell below."
   ]
  },
  {
   "cell_type": "code",
   "execution_count": 7,
   "id": "46d4b345",
   "metadata": {
    "execution": {
     "iopub.execute_input": "2022-02-24T22:32:04.031752Z",
     "iopub.status.busy": "2022-02-24T22:32:04.030620Z",
     "iopub.status.idle": "2022-02-24T22:32:04.034058Z",
     "shell.execute_reply": "2022-02-24T22:32:04.034638Z",
     "shell.execute_reply.started": "2022-02-24T21:21:51.970977Z"
    },
    "papermill": {
     "duration": 0.035719,
     "end_time": "2022-02-24T22:32:04.034864",
     "exception": false,
     "start_time": "2022-02-24T22:32:03.999145",
     "status": "completed"
    },
    "tags": []
   },
   "outputs": [],
   "source": [
    "# Check your answer (Run this code cell to receive credit!)\n",
    "#q_2.solution()"
   ]
  },
  {
   "cell_type": "markdown",
   "id": "15fe9def",
   "metadata": {
    "papermill": {
     "duration": 0.027085,
     "end_time": "2022-02-24T22:32:04.089479",
     "exception": false,
     "start_time": "2022-02-24T22:32:04.062394",
     "status": "completed"
    },
    "tags": []
   },
   "source": [
    "### 3) Determine when this data is from\n",
    "\n",
    "If the data is sufficiently old, we might be careful before assuming the data is still relevant to traffic patterns today. Write a query that counts the number of trips in each year.  \n",
    "\n",
    "Your results should have two columns:\n",
    "- `year` - the year of the trips\n",
    "- `num_trips` - the number of trips in that year\n",
    "\n",
    "Hints:\n",
    "- When using **GROUP BY** and **ORDER BY**, you should refer to the columns by the alias `year` that you set at the top of the **SELECT** query.\n",
    "- The SQL code to **SELECT** the year from `trip_start_timestamp` is <code>SELECT EXTRACT(YEAR FROM trip_start_timestamp)</code>\n",
    "- The **FROM** field can be a little tricky until you are used to it.  The format is:\n",
    "    1. A backick (the symbol \\`).\n",
    "    2. The project name. In this case it is `bigquery-public-data`.\n",
    "    3. A period.\n",
    "    4. The dataset name. In this case, it is `chicago_taxi_trips`.\n",
    "    5. A period.\n",
    "    6. The table name. You used this as your answer in **1) Find the data**.\n",
    "    7. A backtick (the symbol \\`)."
   ]
  },
  {
   "cell_type": "code",
   "execution_count": 8,
   "id": "a9bac9a8",
   "metadata": {
    "execution": {
     "iopub.execute_input": "2022-02-24T22:32:04.148363Z",
     "iopub.status.busy": "2022-02-24T22:32:04.147633Z",
     "iopub.status.idle": "2022-02-24T22:32:06.073727Z",
     "shell.execute_reply": "2022-02-24T22:32:06.074282Z",
     "shell.execute_reply.started": "2022-02-24T21:29:57.092452Z"
    },
    "papermill": {
     "duration": 1.957194,
     "end_time": "2022-02-24T22:32:06.074466",
     "exception": false,
     "start_time": "2022-02-24T22:32:04.117272",
     "status": "completed"
    },
    "tags": []
   },
   "outputs": [
    {
     "name": "stderr",
     "output_type": "stream",
     "text": [
      "/opt/conda/lib/python3.7/site-packages/google/cloud/bigquery/client.py:440: UserWarning: Cannot create BigQuery Storage client, the dependency google-cloud-bigquery-storage is not installed.\n",
      "  \"Cannot create BigQuery Storage client, the dependency \"\n"
     ]
    },
    {
     "name": "stdout",
     "output_type": "stream",
     "text": [
      "   year  num_trips\n",
      "0  2013   27217716\n",
      "1  2014   37395436\n",
      "2  2015   32385875\n",
      "3  2016   31759339\n",
      "4  2017   24988003\n",
      "5  2018   20732088\n",
      "6  2019   16477365\n",
      "7  2020    3889032\n",
      "8  2021    3948045\n",
      "9  2022     308197\n"
     ]
    },
    {
     "data": {
      "application/javascript": [
       "parent.postMessage({\"jupyterEvent\": \"custom.exercise_interaction\", \"data\": {\"outcomeType\": 1, \"valueTowardsCompletion\": 0.16666666666666666, \"interactionType\": 1, \"questionType\": 2, \"questionId\": \"3_YearDistrib\", \"learnToolsVersion\": \"0.3.4\", \"failureMessage\": \"\", \"exceptionClass\": \"\", \"trace\": \"\"}}, \"*\")"
      ],
      "text/plain": [
       "<IPython.core.display.Javascript object>"
      ]
     },
     "metadata": {},
     "output_type": "display_data"
    },
    {
     "data": {
      "text/markdown": [
       "<span style=\"color:#33cc33\">Correct</span>"
      ],
      "text/plain": [
       "Correct"
      ]
     },
     "metadata": {},
     "output_type": "display_data"
    }
   ],
   "source": [
    "# Your code goes here\n",
    "rides_per_year_query = \"\"\"\n",
    "                        SELECT EXTRACT(YEAR FROM trip_start_timestamp) AS year, COUNT(1) as num_trips\n",
    "                        FROM `bigquery-public-data.chicago_taxi_trips.taxi_trips`\n",
    "                        GROUP BY year\n",
    "                        ORDER BY year\n",
    "                    \"\"\"\n",
    "\n",
    "# Set up the query (cancel the query if it would use too much of \n",
    "# your quota)\n",
    "safe_config = bigquery.QueryJobConfig(maximum_bytes_billed=10**10)\n",
    "rides_per_year_query_job = client.query(rides_per_year_query, job_config=safe_config) # Your code goes here\n",
    "\n",
    "# API request - run the query, and return a pandas DataFrame\n",
    "rides_per_year_result = rides_per_year_query_job.to_dataframe() # Your code goes here\n",
    "\n",
    "# View results\n",
    "print(rides_per_year_result)\n",
    "\n",
    "# Check your answer\n",
    "q_3.check()"
   ]
  },
  {
   "cell_type": "markdown",
   "id": "8013a570",
   "metadata": {
    "papermill": {
     "duration": 0.029432,
     "end_time": "2022-02-24T22:32:06.133513",
     "exception": false,
     "start_time": "2022-02-24T22:32:06.104081",
     "status": "completed"
    },
    "tags": []
   },
   "source": [
    "For a hint or the solution, uncomment the appropriate line below."
   ]
  },
  {
   "cell_type": "code",
   "execution_count": 9,
   "id": "9ce9653b",
   "metadata": {
    "execution": {
     "iopub.execute_input": "2022-02-24T22:32:06.196898Z",
     "iopub.status.busy": "2022-02-24T22:32:06.196133Z",
     "iopub.status.idle": "2022-02-24T22:32:06.199516Z",
     "shell.execute_reply": "2022-02-24T22:32:06.198909Z"
    },
    "papermill": {
     "duration": 0.036668,
     "end_time": "2022-02-24T22:32:06.199674",
     "exception": false,
     "start_time": "2022-02-24T22:32:06.163006",
     "status": "completed"
    },
    "tags": []
   },
   "outputs": [],
   "source": [
    "#q_3.hint()\n",
    "#q_3.solution()"
   ]
  },
  {
   "cell_type": "markdown",
   "id": "ee8cd86a",
   "metadata": {
    "papermill": {
     "duration": 0.029347,
     "end_time": "2022-02-24T22:32:06.259689",
     "exception": false,
     "start_time": "2022-02-24T22:32:06.230342",
     "status": "completed"
    },
    "tags": []
   },
   "source": [
    "### 4) Dive slightly deeper\n",
    "\n",
    "You'd like to take a closer look at rides from 2017.  Copy the query you used above in `rides_per_year_query` into the cell below for `rides_per_month_query`.  Then modify it in two ways:\n",
    "1. Use a **WHERE** clause to limit the query to data from 2017.\n",
    "2. Modify the query to extract the month rather than the year."
   ]
  },
  {
   "cell_type": "code",
   "execution_count": 10,
   "id": "1399f53f",
   "metadata": {
    "execution": {
     "iopub.execute_input": "2022-02-24T22:32:06.323065Z",
     "iopub.status.busy": "2022-02-24T22:32:06.322355Z",
     "iopub.status.idle": "2022-02-24T22:32:07.271745Z",
     "shell.execute_reply": "2022-02-24T22:32:07.272273Z",
     "shell.execute_reply.started": "2022-02-24T21:35:37.700819Z"
    },
    "papermill": {
     "duration": 0.982856,
     "end_time": "2022-02-24T22:32:07.272468",
     "exception": false,
     "start_time": "2022-02-24T22:32:06.289612",
     "status": "completed"
    },
    "tags": []
   },
   "outputs": [
    {
     "name": "stderr",
     "output_type": "stream",
     "text": [
      "/opt/conda/lib/python3.7/site-packages/google/cloud/bigquery/client.py:440: UserWarning: Cannot create BigQuery Storage client, the dependency google-cloud-bigquery-storage is not installed.\n",
      "  \"Cannot create BigQuery Storage client, the dependency \"\n"
     ]
    },
    {
     "name": "stdout",
     "output_type": "stream",
     "text": [
      "    month  num_trips\n",
      "0       1    1972071\n",
      "1       2    1909802\n",
      "2       3    2362105\n",
      "3       4    2194702\n",
      "4       5    2323386\n",
      "5       6    2324472\n",
      "6       7    2054299\n",
      "7       8    2079861\n",
      "8       9    1950631\n",
      "9      10    2141197\n",
      "10     11    1907997\n",
      "11     12    1767480\n"
     ]
    },
    {
     "data": {
      "application/javascript": [
       "parent.postMessage({\"jupyterEvent\": \"custom.exercise_interaction\", \"data\": {\"outcomeType\": 1, \"valueTowardsCompletion\": 0.16666666666666666, \"interactionType\": 1, \"questionType\": 2, \"questionId\": \"4_MonthDistrib\", \"learnToolsVersion\": \"0.3.4\", \"failureMessage\": \"\", \"exceptionClass\": \"\", \"trace\": \"\"}}, \"*\")"
      ],
      "text/plain": [
       "<IPython.core.display.Javascript object>"
      ]
     },
     "metadata": {},
     "output_type": "display_data"
    },
    {
     "data": {
      "text/markdown": [
       "<span style=\"color:#33cc33\">Correct</span>"
      ],
      "text/plain": [
       "Correct"
      ]
     },
     "metadata": {},
     "output_type": "display_data"
    }
   ],
   "source": [
    "# Your code goes here\n",
    "rides_per_month_query = \"\"\"\n",
    "                        SELECT EXTRACT(MONTH FROM trip_start_timestamp) AS month, COUNT(1) as num_trips\n",
    "                        FROM `bigquery-public-data.chicago_taxi_trips.taxi_trips`\n",
    "                        WHERE EXTRACT(YEAR FROM trip_start_timestamp) = 2017\n",
    "                        GROUP BY month\n",
    "                        ORDER BY month\n",
    "                    \"\"\" \n",
    "\n",
    "# Set up the query\n",
    "safe_config = bigquery.QueryJobConfig(maximum_bytes_billed=10**10)\n",
    "rides_per_month_query_job = client.query(rides_per_month_query, job_config=safe_config) # Your code goes here\n",
    "\n",
    "# API request - run the query, and return a pandas DataFrame\n",
    "rides_per_month_result = rides_per_month_query_job.to_dataframe() # Your code goes here\n",
    "\n",
    "# View results\n",
    "print(rides_per_month_result)\n",
    "\n",
    "# Check your answer\n",
    "q_4.check()"
   ]
  },
  {
   "cell_type": "markdown",
   "id": "ab4a1bcd",
   "metadata": {
    "papermill": {
     "duration": 0.038949,
     "end_time": "2022-02-24T22:32:07.348562",
     "exception": false,
     "start_time": "2022-02-24T22:32:07.309613",
     "status": "completed"
    },
    "tags": []
   },
   "source": [
    "For a hint or the solution, uncomment the appropriate line below."
   ]
  },
  {
   "cell_type": "code",
   "execution_count": 11,
   "id": "64b06337",
   "metadata": {
    "execution": {
     "iopub.execute_input": "2022-02-24T22:32:07.417360Z",
     "iopub.status.busy": "2022-02-24T22:32:07.416571Z",
     "iopub.status.idle": "2022-02-24T22:32:07.419216Z",
     "shell.execute_reply": "2022-02-24T22:32:07.419705Z",
     "shell.execute_reply.started": "2022-02-24T21:36:18.125281Z"
    },
    "papermill": {
     "duration": 0.038168,
     "end_time": "2022-02-24T22:32:07.419908",
     "exception": false,
     "start_time": "2022-02-24T22:32:07.381740",
     "status": "completed"
    },
    "tags": []
   },
   "outputs": [],
   "source": [
    "#q_4.hint()\n",
    "#q_4.solution()"
   ]
  },
  {
   "cell_type": "markdown",
   "id": "a0d2d320",
   "metadata": {
    "papermill": {
     "duration": 0.031325,
     "end_time": "2022-02-24T22:32:07.483569",
     "exception": false,
     "start_time": "2022-02-24T22:32:07.452244",
     "status": "completed"
    },
    "tags": []
   },
   "source": [
    "### 5) Write the query\n",
    "\n",
    "It's time to step up the sophistication of your queries.  Write a query that shows, for each hour of the day in the dataset, the corresponding number of trips and average speed.\n",
    "\n",
    "Your results should have three columns:\n",
    "- `hour_of_day` - sort by this column, which holds the result of extracting the hour from `trip_start_timestamp`.\n",
    "- `num_trips` - the count of the total number of trips in each hour of the day (e.g. how many trips were started between 6AM and 7AM, independent of which day it occurred on).\n",
    "- `avg_mph` - the average speed, measured in miles per hour, for trips that started in that hour of the day.  Average speed in miles per hour is calculated as `3600 * SUM(trip_miles) / SUM(trip_seconds)`. (The value 3600 is used to convert from seconds to hours.)\n",
    "\n",
    "Restrict your query to data meeting the following criteria:\n",
    "- a `trip_start_timestamp` between **2017-01-01** and **2017-07-01**\n",
    "- `trip_seconds` > 0 and `trip_miles` > 0\n",
    "\n",
    "You will use a common table expression (CTE) to select just the relevant rides.  Because this dataset is very big, this CTE should select only the columns you'll need to create the final output (though you won't actually create those in the CTE -- instead you'll create those in the later **SELECT** statement below the CTE).\n",
    "\n",
    "This is a much harder query than anything you've written so far.  Good luck!"
   ]
  },
  {
   "cell_type": "code",
   "execution_count": 12,
   "id": "7778fb51",
   "metadata": {
    "execution": {
     "iopub.execute_input": "2022-02-24T22:32:07.549798Z",
     "iopub.status.busy": "2022-02-24T22:32:07.549134Z",
     "iopub.status.idle": "2022-02-24T22:32:07.558693Z",
     "shell.execute_reply": "2022-02-24T22:32:07.558213Z"
    },
    "papermill": {
     "duration": 0.043841,
     "end_time": "2022-02-24T22:32:07.558833",
     "exception": false,
     "start_time": "2022-02-24T22:32:07.514992",
     "status": "completed"
    },
    "tags": []
   },
   "outputs": [
    {
     "name": "stdout",
     "output_type": "stream",
     "text": [
      "<learntools.core.constants.PlaceholderValue object at 0x7ff56ca93510>\n"
     ]
    },
    {
     "data": {
      "application/javascript": [
       "parent.postMessage({\"jupyterEvent\": \"custom.exercise_interaction\", \"data\": {\"outcomeType\": 4, \"interactionType\": 1, \"questionType\": 2, \"questionId\": \"5_TheLongQuery\", \"learnToolsVersion\": \"0.3.4\", \"valueTowardsCompletion\": 0.0, \"failureMessage\": \"\", \"exceptionClass\": \"\", \"trace\": \"\"}}, \"*\")"
      ],
      "text/plain": [
       "<IPython.core.display.Javascript object>"
      ]
     },
     "metadata": {},
     "output_type": "display_data"
    },
    {
     "data": {
      "text/markdown": [
       "<span style=\"color:#ccaa33\">Check:</span> When you've updated the starter code, `check()` will tell you whether your code is correct. You need to update the code that creates variable `speeds_result`"
      ],
      "text/plain": [
       "Check: When you've updated the starter code, `check()` will tell you whether your code is correct. You need to update the code that creates variable `speeds_result`"
      ]
     },
     "metadata": {},
     "output_type": "display_data"
    }
   ],
   "source": [
    "# Your code goes here\n",
    "speeds_query = \"\"\"\n",
    "               WITH RelevantRides AS\n",
    "               (\n",
    "                   SELECT ____\n",
    "                   FROM ____\n",
    "                   WHERE ____\n",
    "               )\n",
    "               SELECT ______\n",
    "               FROM RelevantRides\n",
    "               GROUP BY ____\n",
    "               ORDER BY ____\n",
    "               \"\"\"\n",
    "\n",
    "# Set up the query\n",
    "safe_config = bigquery.QueryJobConfig(maximum_bytes_billed=10**10)\n",
    "speeds_query_job = ____ # Your code here\n",
    "\n",
    "# API request - run the query, and return a pandas DataFrame\n",
    "speeds_result = ____ # Your code here\n",
    "\n",
    "# View results\n",
    "print(speeds_result)\n",
    "\n",
    "# Check your answer\n",
    "q_5.check()"
   ]
  },
  {
   "cell_type": "markdown",
   "id": "de49cce0",
   "metadata": {
    "papermill": {
     "duration": 0.033138,
     "end_time": "2022-02-24T22:32:07.625281",
     "exception": false,
     "start_time": "2022-02-24T22:32:07.592143",
     "status": "completed"
    },
    "tags": []
   },
   "source": [
    "For the solution, uncomment the appropriate line below."
   ]
  },
  {
   "cell_type": "code",
   "execution_count": 13,
   "id": "78e49a9f",
   "metadata": {
    "execution": {
     "iopub.execute_input": "2022-02-24T22:32:07.698742Z",
     "iopub.status.busy": "2022-02-24T22:32:07.697636Z",
     "iopub.status.idle": "2022-02-24T22:32:07.699591Z",
     "shell.execute_reply": "2022-02-24T22:32:07.700225Z"
    },
    "papermill": {
     "duration": 0.040611,
     "end_time": "2022-02-24T22:32:07.700407",
     "exception": false,
     "start_time": "2022-02-24T22:32:07.659796",
     "status": "completed"
    },
    "tags": []
   },
   "outputs": [],
   "source": [
    "#q_5.solution()"
   ]
  },
  {
   "cell_type": "markdown",
   "id": "324f9189",
   "metadata": {
    "papermill": {
     "duration": 0.03308,
     "end_time": "2022-02-24T22:32:07.766934",
     "exception": false,
     "start_time": "2022-02-24T22:32:07.733854",
     "status": "completed"
    },
    "tags": []
   },
   "source": [
    "That's a hard query. If you made good progress towards the solution, congratulations!"
   ]
  },
  {
   "cell_type": "markdown",
   "id": "6ce9fbe9",
   "metadata": {
    "papermill": {
     "duration": 0.033269,
     "end_time": "2022-02-24T22:32:07.833250",
     "exception": false,
     "start_time": "2022-02-24T22:32:07.799981",
     "status": "completed"
    },
    "tags": []
   },
   "source": [
    "# Keep going\n",
    "\n",
    "You can write very complex queries now with a single data source. But nothing expands the horizons of SQL as much as the ability to combine or **JOIN** tables.\n",
    "\n",
    "**[Click here](https://www.kaggle.com/dansbecker/joining-data)** to start the last lesson in the Intro to SQL micro-course."
   ]
  },
  {
   "cell_type": "markdown",
   "id": "dd4ea615",
   "metadata": {
    "papermill": {
     "duration": 0.032753,
     "end_time": "2022-02-24T22:32:07.899033",
     "exception": false,
     "start_time": "2022-02-24T22:32:07.866280",
     "status": "completed"
    },
    "tags": []
   },
   "source": [
    "---\n",
    "\n",
    "\n",
    "\n",
    "\n",
    "*Have questions or comments? Visit the [course discussion forum](https://www.kaggle.com/learn/intro-to-sql/discussion) to chat with other learners.*"
   ]
  }
 ],
 "metadata": {
  "kernelspec": {
   "display_name": "Python 3",
   "language": "python",
   "name": "python3"
  },
  "language_info": {
   "codemirror_mode": {
    "name": "ipython",
    "version": 3
   },
   "file_extension": ".py",
   "mimetype": "text/x-python",
   "name": "python",
   "nbconvert_exporter": "python",
   "pygments_lexer": "ipython3",
   "version": "3.7.12"
  },
  "papermill": {
   "default_parameters": {},
   "duration": 20.65184,
   "end_time": "2022-02-24T22:32:08.542706",
   "environment_variables": {},
   "exception": null,
   "input_path": "__notebook__.ipynb",
   "output_path": "__notebook__.ipynb",
   "parameters": {},
   "start_time": "2022-02-24T22:31:47.890866",
   "version": "2.3.3"
  }
 },
 "nbformat": 4,
 "nbformat_minor": 5
}
