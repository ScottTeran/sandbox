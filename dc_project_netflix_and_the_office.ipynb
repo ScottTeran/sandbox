{
  "nbformat": 4,
  "nbformat_minor": 0,
  "metadata": {
    "colab": {
      "name": "dc_project_netflix_and_the_office.ipynb",
      "provenance": [],
      "authorship_tag": "ABX9TyNGgBFqXNbExkV1teq9Fu7G",
      "include_colab_link": true
    },
    "kernelspec": {
      "name": "python3",
      "display_name": "Python 3"
    },
    "language_info": {
      "name": "python"
    }
  },
  "cells": [
    {
      "cell_type": "markdown",
      "metadata": {
        "id": "view-in-github",
        "colab_type": "text"
      },
      "source": [
        "<a href=\"https://colab.research.google.com/github/ScottTeran/sandbox/blob/main/dc_project_netflix_and_the_office.ipynb\" target=\"_parent\"><img src=\"https://colab.research.google.com/assets/colab-badge.svg\" alt=\"Open In Colab\"/></a>"
      ]
    },
    {
      "cell_type": "markdown",
      "source": [
        "*This project was completed as part of DataCamp's Data Science for Python track.*"
      ],
      "metadata": {
        "id": "PtPFkpZSdZ4A"
      }
    },
    {
      "cell_type": "code",
      "source": [
        "# Create the years and durations lists\n",
        "years = [2011, 2012, 2013, 2014, 2015, 2016, 2017, 2018, 2019, 2020]\n",
        "durations = [103, 101, 99, 100, 100, 95, 95, 96, 93, 90]\n",
        "\n",
        "# Create a dictionary with the two lists\n",
        "movie_dict = {'years': years, 'durations': durations}\n",
        "\n",
        "# Print the dictionary\n",
        "print(movie_dict)"
      ],
      "metadata": {
        "colab": {
          "base_uri": "https://localhost:8080/"
        },
        "id": "OBJja_FUdvsb",
        "outputId": "c7a8bde6-3dec-4d7f-a35c-8977a1898a56"
      },
      "execution_count": 3,
      "outputs": [
        {
          "output_type": "stream",
          "name": "stdout",
          "text": [
            "{'years': [2011, 2012, 2013, 2014, 2015, 2016, 2017, 2018, 2019, 2020], 'durations': [103, 101, 99, 100, 100, 95, 95, 96, 93, 90]}\n"
          ]
        }
      ]
    },
    {
      "cell_type": "code",
      "source": [
        "# Import pandas under its usual alias\n",
        "import pandas as pd\n",
        "\n",
        "# Create a DataFrame from the dictionary\n",
        "durations_df = pd.DataFrame(movie_dict)\n",
        "\n",
        "# Print the DataFrame\n",
        "print(durations_df)"
      ],
      "metadata": {
        "colab": {
          "base_uri": "https://localhost:8080/"
        },
        "id": "B3WJOyafg5Qy",
        "outputId": "dd52aa5e-cb02-4ca5-f4c6-bc154e7cf03a"
      },
      "execution_count": 4,
      "outputs": [
        {
          "output_type": "stream",
          "name": "stdout",
          "text": [
            "   years  durations\n",
            "0   2011        103\n",
            "1   2012        101\n",
            "2   2013         99\n",
            "3   2014        100\n",
            "4   2015        100\n",
            "5   2016         95\n",
            "6   2017         95\n",
            "7   2018         96\n",
            "8   2019         93\n",
            "9   2020         90\n"
          ]
        }
      ]
    },
    {
      "cell_type": "code",
      "source": [
        ""
      ],
      "metadata": {
        "id": "QZ_BzQy_knUz"
      },
      "execution_count": null,
      "outputs": []
    }
  ]
}